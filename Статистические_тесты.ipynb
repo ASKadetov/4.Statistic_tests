{
  "cells": [
    {
      "cell_type": "markdown",
      "metadata": {
        "id": "yMG_XPwziMUN"
      },
      "source": [
        "# <center> Практика. Статистические тесты в контексте EDA"
      ]
    },
    {
      "cell_type": "markdown",
      "metadata": {
        "id": "EMd2vwh8ihnl"
      },
      "source": [
        "## Постановка задачи\n",
        "\n",
        "К вам обратилась страховая компания. Ей необходимо исследовать влияние характеристик клиентов, которых она обслуживает, на размер страховых выплат, которые выплачивают эти клиенты за год, а также отследить иные взаимосвязи в данных.\n",
        "\n",
        "Страховая компания хочет ответить на следующие вопросы, касающиеся страховых выплат:\n",
        "\n",
        "- Размер страховых выплат для клиентов-мужчин больше, чем для клиентов-женщин?\n",
        "- Размер страховых выплат для некурящих клиентов меньше, чем для курящих?\n",
        "- Влияет ли регион проживания на размер выплат?\n",
        "- Есть ли взаимосвязь между курением и полом?\n",
        "\n",
        "На каждый вопрос необходимо ответить с уровнем значимости $\\alpha=0.05$.\n",
        "\n",
        "Ответить на эти вопросы нам помогут данные о годовых страховых выплатах с указанием характеристик клиентов."
      ]
    },
    {
      "cell_type": "markdown",
      "metadata": {
        "id": "_XMyOg3cgcN1"
      },
      "source": [
        "## Загрузка данных"
      ]
    },
    {
      "cell_type": "code",
      "execution_count": 8,
      "metadata": {
        "id": "2JjaPf35gyCK"
      },
      "outputs": [],
      "source": [
        "import pandas as pd\n",
        "import numpy as np\n",
        "\n",
        "from scipy import stats\n",
        "import statsmodels.api as sm\n",
        "from statsmodels import stats as sms\n",
        "\n",
        "import matplotlib.pyplot as plt\n",
        "import seaborn as sns\n",
        "sns.set_theme(\"notebook\") "
      ]
    },
    {
      "cell_type": "code",
      "execution_count": 2,
      "metadata": {
        "colab": {
          "base_uri": "https://localhost:8080/",
          "height": 206
        },
        "id": "ZPiI902dv11F",
        "outputId": "eccef1b9-a3cc-4144-a9df-a2a020abf30c"
      },
      "outputs": [
        {
          "data": {
            "text/html": [
              "<div>\n",
              "<style scoped>\n",
              "    .dataframe tbody tr th:only-of-type {\n",
              "        vertical-align: middle;\n",
              "    }\n",
              "\n",
              "    .dataframe tbody tr th {\n",
              "        vertical-align: top;\n",
              "    }\n",
              "\n",
              "    .dataframe thead th {\n",
              "        text-align: right;\n",
              "    }\n",
              "</style>\n",
              "<table border=\"1\" class=\"dataframe\">\n",
              "  <thead>\n",
              "    <tr style=\"text-align: right;\">\n",
              "      <th></th>\n",
              "      <th>age</th>\n",
              "      <th>sex</th>\n",
              "      <th>bmi</th>\n",
              "      <th>children</th>\n",
              "      <th>smoker</th>\n",
              "      <th>region</th>\n",
              "      <th>charges</th>\n",
              "    </tr>\n",
              "  </thead>\n",
              "  <tbody>\n",
              "    <tr>\n",
              "      <th>0</th>\n",
              "      <td>19</td>\n",
              "      <td>female</td>\n",
              "      <td>27.900</td>\n",
              "      <td>0</td>\n",
              "      <td>yes</td>\n",
              "      <td>southwest</td>\n",
              "      <td>16884.92400</td>\n",
              "    </tr>\n",
              "    <tr>\n",
              "      <th>1</th>\n",
              "      <td>18</td>\n",
              "      <td>male</td>\n",
              "      <td>33.770</td>\n",
              "      <td>1</td>\n",
              "      <td>no</td>\n",
              "      <td>southeast</td>\n",
              "      <td>1725.55230</td>\n",
              "    </tr>\n",
              "    <tr>\n",
              "      <th>2</th>\n",
              "      <td>28</td>\n",
              "      <td>male</td>\n",
              "      <td>33.000</td>\n",
              "      <td>3</td>\n",
              "      <td>no</td>\n",
              "      <td>southeast</td>\n",
              "      <td>4449.46200</td>\n",
              "    </tr>\n",
              "    <tr>\n",
              "      <th>3</th>\n",
              "      <td>33</td>\n",
              "      <td>male</td>\n",
              "      <td>22.705</td>\n",
              "      <td>0</td>\n",
              "      <td>no</td>\n",
              "      <td>northwest</td>\n",
              "      <td>21984.47061</td>\n",
              "    </tr>\n",
              "    <tr>\n",
              "      <th>4</th>\n",
              "      <td>32</td>\n",
              "      <td>male</td>\n",
              "      <td>28.880</td>\n",
              "      <td>0</td>\n",
              "      <td>no</td>\n",
              "      <td>northwest</td>\n",
              "      <td>3866.85520</td>\n",
              "    </tr>\n",
              "  </tbody>\n",
              "</table>\n",
              "</div>"
            ],
            "text/plain": [
              "   age     sex     bmi  children smoker     region      charges\n",
              "0   19  female  27.900         0    yes  southwest  16884.92400\n",
              "1   18    male  33.770         1     no  southeast   1725.55230\n",
              "2   28    male  33.000         3     no  southeast   4449.46200\n",
              "3   33    male  22.705         0     no  northwest  21984.47061\n",
              "4   32    male  28.880         0     no  northwest   3866.85520"
            ]
          },
          "execution_count": 2,
          "metadata": {},
          "output_type": "execute_result"
        }
      ],
      "source": [
        "# загружаем датасет\n",
        "data = pd.read_csv('data/insurance.csv')\n",
        "data.head()"
      ]
    },
    {
      "cell_type": "markdown",
      "metadata": {},
      "source": [
        "Данные содержат следующие столбцы:\n",
        "*   *age* — возраст;\n",
        "*   *sex* — пол: женский (female), мужской (male);\n",
        "*   *bmi* — индекс массы тела, показывающий степень соответствия веса человека его росту (нормальные значения — от 18.5 до 24.9 кг/м²);\n",
        "*   *children* — количество детей или иждивенцев, дополнительно включённых в страховку;\n",
        "*   *smoker* — курит ли клиент (yes/no);\n",
        "*   *region* — регион проживания в США: северо-восток (northeast), юго-восток (southeast), юго-запад (southwest), северо-запад (northwest);\n",
        "*   *charges* — размер страховых выплат на клиента за год."
      ]
    },
    {
      "cell_type": "code",
      "execution_count": 3,
      "metadata": {
        "colab": {
          "base_uri": "https://localhost:8080/"
        },
        "id": "uLEEV6aLomOU",
        "outputId": "23314b21-aa3f-4537-94cb-be776d9427ae"
      },
      "outputs": [],
      "source": [
        "# задаём уровень значимости\n",
        "alpha = 0.05 "
      ]
    },
    {
      "cell_type": "markdown",
      "metadata": {
        "id": "c9QRWWOVfV13"
      },
      "source": [
        "## Описательный анализ данных"
      ]
    },
    {
      "cell_type": "code",
      "execution_count": null,
      "metadata": {
        "colab": {
          "base_uri": "https://localhost:8080/"
        },
        "id": "zkiOmlAy2XQU",
        "outputId": "88adbac3-0fd7-460c-a368-c40baff97200"
      },
      "outputs": [
        {
          "name": "stdout",
          "output_type": "stream",
          "text": [
            "<class 'pandas.core.frame.DataFrame'>\n",
            "RangeIndex: 1338 entries, 0 to 1337\n",
            "Data columns (total 7 columns):\n",
            " #   Column    Non-Null Count  Dtype  \n",
            "---  ------    --------------  -----  \n",
            " 0   age       1338 non-null   int64  \n",
            " 1   sex       1338 non-null   object \n",
            " 2   bmi       1338 non-null   float64\n",
            " 3   children  1338 non-null   int64  \n",
            " 4   smoker    1338 non-null   object \n",
            " 5   region    1338 non-null   object \n",
            " 6   charges   1338 non-null   float64\n",
            "dtypes: float64(2), int64(2), object(3)\n",
            "memory usage: 73.3+ KB\n"
          ]
        }
      ],
      "source": [
        "data.info()"
      ]
    },
    {
      "cell_type": "markdown",
      "metadata": {
        "id": "2DSvnZuul7Za"
      },
      "source": [
        "В датасете 1338 записей (без пропущенных значений)."
      ]
    },
    {
      "cell_type": "markdown",
      "metadata": {
        "id": "Xug87trzl7Za"
      },
      "source": [
        "Проверим данные на наличие полных дубликатов:"
      ]
    },
    {
      "cell_type": "code",
      "execution_count": 4,
      "metadata": {
        "colab": {
          "base_uri": "https://localhost:8080/"
        },
        "id": "As_X7I6jl7Za",
        "outputId": "3d3795b3-ab7c-4cc6-ab3d-23a4796a7b5c"
      },
      "outputs": [
        {
          "name": "stdout",
          "output_type": "stream",
          "text": [
            "Количество дубликатов: 1\n",
            "Размер таблицы после удаления дубликатов: (1337, 7)\n"
          ]
        }
      ],
      "source": [
        "print('Количество дубликатов: {}'.format(data[data.duplicated()].shape[0]))\n",
        "\n",
        "# Удаляем дубликаты:\n",
        "data = data.drop_duplicates()\n",
        "print('Размер таблицы после удаления дубликатов: {}'.format(data.shape))"
      ]
    },
    {
      "cell_type": "markdown",
      "metadata": {
        "id": "6uAbyderTaNx"
      },
      "source": [
        "### Распределение страховых выплат по всем клиентам"
      ]
    },
    {
      "cell_type": "code",
      "execution_count": 9,
      "metadata": {
        "colab": {
          "base_uri": "https://localhost:8080/",
          "height": 496
        },
        "id": "KX6k6B2NWJ8t",
        "outputId": "523d571d-679e-4926-fe74-dc130c6a1b53"
      },
      "outputs": [
        {
          "data": {
            "image/png": "[encoded data removed]",
            "text/plain": [
              "<Figure size 1500x500 with 2 Axes>"
            ]
          },
          "metadata": {},
          "output_type": "display_data"
        }
      ],
      "source": [
        "fig, axes = plt.subplots(1, 2, figsize=(15, 5))\n",
        "\n",
        "sns.histplot(data['charges'], kde=True, ax=axes[0])\n",
        "axes[0].set(xlabel='Размер страховых выплат', ylabel='Частота')\n",
        "axes[0].set_title('Распределение страховых выплат для всех клиентов')\n",
        "axes[0].axvline(data['charges'].mean(), color='red', linestyle='--', linewidth=0.8)\n",
        "\n",
        "sns.boxplot(data['charges'], ax=axes[1], orient='h', medianprops={\"color\": \"red\", \"linestyle\": '--'})\n",
        "axes[1].set(ylabel='Размер страховых выплат')\n",
        "axes[1].set_title('Распределение страховых выплат для всех клиентов')\n",
        "\n",
        "plt.show()"
      ]
    },
    {
      "cell_type": "code",
      "execution_count": null,
      "metadata": {
        "colab": {
          "base_uri": "https://localhost:8080/",
          "height": 300
        },
        "id": "h4rqfECm4umv",
        "outputId": "3edbc181-1016-488d-ef8c-6dfc5dbbfee1"
      },
      "outputs": [
        {
          "data": {
            "text/html": [
              "\n",
              "  <div id=\"df-1a071603-d1eb-40ed-aa7a-77482632cdbe\">\n",
              "    <div class=\"colab-df-container\">\n",
              "      <div>\n",
              "<style scoped>\n",
              "    .dataframe tbody tr th:only-of-type {\n",
              "        vertical-align: middle;\n",
              "    }\n",
              "\n",
              "    .dataframe tbody tr th {\n",
              "        vertical-align: top;\n",
              "    }\n",
              "\n",
              "    .dataframe thead th {\n",
              "        text-align: right;\n",
              "    }\n",
              "</style>\n",
              "<table border=\"1\" class=\"dataframe\">\n",
              "  <thead>\n",
              "    <tr style=\"text-align: right;\">\n",
              "      <th></th>\n",
              "      <th>Размер страховых выплат</th>\n",
              "    </tr>\n",
              "  </thead>\n",
              "  <tbody>\n",
              "    <tr>\n",
              "      <th>count</th>\n",
              "      <td>1337.00</td>\n",
              "    </tr>\n",
              "    <tr>\n",
              "      <th>mean</th>\n",
              "      <td>13279.12</td>\n",
              "    </tr>\n",
              "    <tr>\n",
              "      <th>std</th>\n",
              "      <td>12110.36</td>\n",
              "    </tr>\n",
              "    <tr>\n",
              "      <th>min</th>\n",
              "      <td>1121.87</td>\n",
              "    </tr>\n",
              "    <tr>\n",
              "      <th>25%</th>\n",
              "      <td>4746.34</td>\n",
              "    </tr>\n",
              "    <tr>\n",
              "      <th>50%</th>\n",
              "      <td>9386.16</td>\n",
              "    </tr>\n",
              "    <tr>\n",
              "      <th>75%</th>\n",
              "      <td>16657.72</td>\n",
              "    </tr>\n",
              "    <tr>\n",
              "      <th>max</th>\n",
              "      <td>63770.43</td>\n",
              "    </tr>\n",
              "  </tbody>\n",
              "</table>\n",
              "</div>\n",
              "      <button class=\"colab-df-convert\" onclick=\"convertToInteractive('df-1a071603-d1eb-40ed-aa7a-77482632cdbe')\"\n",
              "              title=\"Convert this dataframe to an interactive table.\"\n",
              "              style=\"display:none;\">\n",
              "        \n",
              "  <svg xmlns=\"http://www.w3.org/2000/svg\" height=\"24px\"viewBox=\"0 0 24 24\"\n",
              "       width=\"24px\">\n",
              "    <path d=\"M0 0h24v24H0V0z\" fill=\"none\"/>\n",
              "    <path d=\"M18.56 5.44l.94 2.06.94-2.06 2.06-.94-2.06-.94-.94-2.06-.94 2.06-2.06.94zm-11 1L8.5 8.5l.94-2.06 2.06-.94-2.06-.94L8.5 2.5l-.94 2.06-2.06.94zm10 10l.94 2.06.94-2.06 2.06-.94-2.06-.94-.94-2.06-.94 2.06-2.06.94z\"/><path d=\"M17.41 7.96l-1.37-1.37c-.4-.4-.92-.59-1.43-.59-.52 0-1.04.2-1.43.59L10.3 9.45l-7.72 7.72c-.78.78-.78 2.05 0 2.83L4 21.41c.39.39.9.59 1.41.59.51 0 1.02-.2 1.41-.59l7.78-7.78 2.81-2.81c.8-.78.8-2.07 0-2.86zM5.41 20L4 18.59l7.72-7.72 1.47 1.35L5.41 20z\"/>\n",
              "  </svg>\n",
              "      </button>\n",
              "      \n",
              "  <style>\n",
              "    .colab-df-container {\n",
              "      display:flex;\n",
              "      flex-wrap:wrap;\n",
              "      gap: 12px;\n",
              "    }\n",
              "\n",
              "    .colab-df-convert {\n",
              "      background-color: #E8F0FE;\n",
              "      border: none;\n",
              "      border-radius: 50%;\n",
              "      cursor: pointer;\n",
              "      display: none;\n",
              "      fill: #1967D2;\n",
              "      height: 32px;\n",
              "      padding: 0 0 0 0;\n",
              "      width: 32px;\n",
              "    }\n",
              "\n",
              "    .colab-df-convert:hover {\n",
              "      background-color: #E2EBFA;\n",
              "      box-shadow: 0px 1px 2px rgba(60, 64, 67, 0.3), 0px 1px 3px 1px rgba(60, 64, 67, 0.15);\n",
              "      fill: #174EA6;\n",
              "    }\n",
              "\n",
              "    [theme=dark] .colab-df-convert {\n",
              "      background-color: #3B4455;\n",
              "      fill: #D2E3FC;\n",
              "    }\n",
              "\n",
              "    [theme=dark] .colab-df-convert:hover {\n",
              "      background-color: #434B5C;\n",
              "      box-shadow: 0px 1px 3px 1px rgba(0, 0, 0, 0.15);\n",
              "      filter: drop-shadow(0px 1px 2px rgba(0, 0, 0, 0.3));\n",
              "      fill: #FFFFFF;\n",
              "    }\n",
              "  </style>\n",
              "\n",
              "      <script>\n",
              "        const buttonEl =\n",
              "          document.querySelector('#df-1a071603-d1eb-40ed-aa7a-77482632cdbe button.colab-df-convert');\n",
              "        buttonEl.style.display =\n",
              "          google.colab.kernel.accessAllowed ? 'block' : 'none';\n",
              "\n",
              "        async function convertToInteractive(key) {\n",
              "          const element = document.querySelector('#df-1a071603-d1eb-40ed-aa7a-77482632cdbe');\n",
              "          const dataTable =\n",
              "            await google.colab.kernel.invokeFunction('convertToInteractive',\n",
              "                                                     [key], {});\n",
              "          if (!dataTable) return;\n",
              "\n",
              "          const docLinkHtml = 'Like what you see? Visit the ' +\n",
              "            '<a target=\"_blank\" href=https://colab.research.google.com/notebooks/data_table.ipynb>data table notebook</a>'\n",
              "            + ' to learn more about interactive tables.';\n",
              "          element.innerHTML = '';\n",
              "          dataTable['output_type'] = 'display_data';\n",
              "          await google.colab.output.renderOutput(dataTable, element);\n",
              "          const docLink = document.createElement('div');\n",
              "          docLink.innerHTML = docLinkHtml;\n",
              "          element.appendChild(docLink);\n",
              "        }\n",
              "      </script>\n",
              "    </div>\n",
              "  </div>\n",
              "  "
            ],
            "text/plain": [
              "       Размер страховых выплат\n",
              "count                  1337.00\n",
              "mean                  13279.12\n",
              "std                   12110.36\n",
              "min                    1121.87\n",
              "25%                    4746.34\n",
              "50%                    9386.16\n",
              "75%                   16657.72\n",
              "max                   63770.43"
            ]
          },
          "execution_count": 22,
          "metadata": {},
          "output_type": "execute_result"
        }
      ],
      "source": [
        "data_agg = data['charges'].describe().round(2).to_frame()\n",
        "data_agg.columns = ['Размер страховых выплат']\n",
        "data_agg"
      ]
    },
    {
      "cell_type": "markdown",
      "metadata": {
        "id": "fHrGH7w56m5c"
      },
      "source": [
        "Распределение страховых выплат отлично от нормального, имеются выбросы."
      ]
    },
    {
      "cell_type": "markdown",
      "metadata": {
        "id": "cFABAmBjTkCo"
      },
      "source": [
        "### Страховые выплаты в зависимости от пола"
      ]
    },
    {
      "cell_type": "code",
      "execution_count": 14,
      "metadata": {
        "colab": {
          "base_uri": "https://localhost:8080/",
          "height": 480
        },
        "id": "a06HKS1bwzsS",
        "outputId": "e4aa3e1a-71d3-4df3-8857-3f9f4342fa18"
      },
      "outputs": [
        {
          "data": {
            "image/png": "[encoded data removed]",
            "text/plain": [
              "<Figure size 640x480 with 1 Axes>"
            ]
          },
          "metadata": {},
          "output_type": "display_data"
        }
      ],
      "source": [
        "sns.boxplot(data, x='charges', y='sex', orient='h', medianprops={\"color\": \"red\", \"linestyle\": '--'})\n",
        "plt.title('Распределение страховых выплат в зависимости от пола')\n",
        "plt.show()"
      ]
    },
    {
      "cell_type": "markdown",
      "metadata": {
        "id": "QnoG6XTK_fOH"
      },
      "source": [
        "На первый взгляд распределения страховых выплат для разных полов различны. Чтобы определить, являются ли эти различия статистически значимыми, в следующем разделе мы проведём статистическое тестирование."
      ]
    },
    {
      "cell_type": "markdown",
      "metadata": {
        "id": "crI7PFP0TpDI"
      },
      "source": [
        "### Страховые выплаты в зависимости от того, курит ли клиент."
      ]
    },
    {
      "cell_type": "code",
      "execution_count": 15,
      "metadata": {
        "colab": {
          "base_uri": "https://localhost:8080/",
          "height": 480
        },
        "id": "SkPmlfj7S9BL",
        "outputId": "00283144-aa01-43c9-9ee4-b0a38efc3f84"
      },
      "outputs": [
        {
          "data": {
            "image/png": "[encoded data removed]",
            "text/plain": [
              "<Figure size 640x480 with 1 Axes>"
            ]
          },
          "metadata": {},
          "output_type": "display_data"
        }
      ],
      "source": [
        "sns.boxplot(data, x='charges', y='smoker', orient='h', medianprops={\"color\": \"red\", \"linestyle\": '--'})\n",
        "plt.title('Распределение страховых выплат по курению')\n",
        "plt.show()"
      ]
    },
    {
      "cell_type": "markdown",
      "metadata": {
        "id": "zK_jL2gjS9BL"
      },
      "source": [
        "Распределения страховых выплат различны в зависимости от того, курит ли клиент. Чтобы определить, являются ли эти различия статистически значимыми, в следующем разделе мы проведём статистические тесты."
      ]
    },
    {
      "cell_type": "markdown",
      "metadata": {
        "id": "y5MHyfPTTshb"
      },
      "source": [
        "### Страховые выплаты в зависимости от региона"
      ]
    },
    {
      "cell_type": "code",
      "execution_count": 16,
      "metadata": {
        "colab": {
          "base_uri": "https://localhost:8080/",
          "height": 480
        },
        "id": "denXZIElwzvO",
        "outputId": "5101be0d-2e82-4126-ab69-ffc179b1626b"
      },
      "outputs": [
        {
          "data": {
            "image/png": "[encoded data removed]",
            "text/plain": [
              "<Figure size 640x480 with 1 Axes>"
            ]
          },
          "metadata": {},
          "output_type": "display_data"
        }
      ],
      "source": [
        "sns.boxplot(data, x='charges', y='region', orient='h', medianprops={\"color\": \"red\", \"linestyle\": '--'})\n",
        "plt.title('Распределение страховых выплат по региону')\n",
        "plt.show()"
      ]
    },
    {
      "cell_type": "markdown",
      "metadata": {
        "id": "y_SC_018yS76"
      },
      "source": [
        "Распределения страховых выплат не сильно различны для разных регионов."
      ]
    },
    {
      "cell_type": "markdown",
      "metadata": {
        "id": "GlJ2fclcl7Zd"
      },
      "source": [
        "### Соотношение курящих среди мужчин и женщин"
      ]
    },
    {
      "cell_type": "code",
      "execution_count": 17,
      "metadata": {
        "id": "Uk8459-8l7Zd",
        "outputId": "ec251979-47d0-4b80-8c0a-d4416583b95c"
      },
      "outputs": [
        {
          "data": {
            "image/png": "[encoded data removed]",
            "text/plain": [
              "<Figure size 640x480 with 1 Axes>"
            ]
          },
          "metadata": {},
          "output_type": "display_data"
        }
      ],
      "source": [
        "sns.countplot(data=data, x=data['sex'], hue='smoker')\n",
        "plt.title('Соотношение курящих и некурящих по полу')\n",
        "plt.show()"
      ]
    },
    {
      "cell_type": "code",
      "execution_count": 18,
      "metadata": {
        "colab": {
          "base_uri": "https://localhost:8080/",
          "height": 480
        },
        "id": "81kAFODPl7Zd",
        "outputId": "3a36537f-39d6-4e12-a1c6-ec986ebdd15f"
      },
      "outputs": [
        {
          "data": {
            "image/png": "[encoded data removed]",
            "text/plain": [
              "<Figure size 640x480 with 2 Axes>"
            ]
          },
          "metadata": {},
          "output_type": "display_data"
        }
      ],
      "source": [
        "cross_tab = pd.crosstab(index=data['sex'], columns=data['smoker'])\n",
        "ax = sns.heatmap(cross_tab, annot=True, linewidth=.5, fmt='.0f', cmap=\"coolwarm\")\n",
        "ax.set(xlabel='Пол', ylabel='Возраст')\n",
        "plt.title('Таблица сопряженности')\n",
        "plt.show()"
      ]
    },
    {
      "cell_type": "markdown",
      "metadata": {
        "id": "Z0rsfkQql7Ze"
      },
      "source": [
        "Согласно данным, среди курящих мужчин больше, чем женщин. Чтобы определить, являются ли эти различия статистически значимыми, в следующем разделе мы проведём статистические тесты."
      ]
    },
    {
      "cell_type": "markdown",
      "metadata": {
        "id": "-UcttLBPfd8-"
      },
      "source": [
        "## Статистический анализ данных\n",
        "\n"
      ]
    },
    {
      "cell_type": "code",
      "execution_count": 19,
      "metadata": {
        "id": "sn3PGE23l7Ze"
      },
      "outputs": [],
      "source": [
        "# функция для принятия решения о нормальности\n",
        "def decision_normality(p):\n",
        "    print('p-value = {:.3f}'.format(p))\n",
        "    if p <= alpha:\n",
        "        print('p-значение меньше, чем заданный уровень значимости {:.2f}. Распределение отлично от нормального'.format(alpha))\n",
        "    else:\n",
        "        print('p-значение больше, чем заданный уровень значимости {:.2f}. Распределение является нормальным'.format(alpha))\n",
        "\n",
        "\n",
        "# функция для принятия решения об отклонении нулевой гипотезы\n",
        "def decision_hypothesis(p):\n",
        "    print('p-value = {:.3f}'.format(p))\n",
        "    if p <= alpha:\n",
        "        print('p-значение меньше, чем заданный уровень значимости {:.2f}. Отвергаем нулевую гипотезу в пользу альтернативной.'.format(alpha))\n",
        "    else:\n",
        "        print('p-значение больше, чем заданный уровень значимости {:.2f}. У нас нет оснований отвергнуть нулевую гипотезу.'.format(alpha))\n",
        "      "
      ]
    },
    {
      "cell_type": "markdown",
      "metadata": {
        "id": "zxbl3BYLGKIW"
      },
      "source": [
        "### 1. Размер страховых выплат для клиентов-мужчин больше, чем для клиентов-женщин?\n",
        "\n",
        "**Сформулируем нулевую и альтернативные гипотезы**\n",
        "\n",
        "*Нулевая гипотеза* ($H_0$): размер страховых выплат клиентов-мужчин ($μ_1$) статистически меньше либо равен размеру страховых выплат клиентов-женщин ($μ_2$).\n",
        "\n",
        "$$ H_0 : μ_1 <= μ_2$$\n",
        "\n",
        "*Альтернативная гипотеза* ($H_1$): размер страховых выплат клиентов-мужчин ($μ_1$) статистически больше, чем размер страховых выплат клиентов-женщин ($μ_2$).\n",
        "\n",
        "$$ H_1 : μ_1 > μ_2$$"
      ]
    },
    {
      "cell_type": "markdown",
      "metadata": {
        "id": "Yi8l7ZWSl7Ze"
      },
      "source": [
        "**Проверка на нормальность**\n",
        "\n",
        "С помощью теста Шапиро-Уилка проверим, распределён ли признак нормально. Напомним гипотезы теста Шапиро-Уилка:\n",
        "\n",
        "*Нулевая гипотеза* ($H_0$): распределение данные является нормальным.\n",
        "\n",
        "*Альтернативная гипотеза* ($H_1$): распределение данных отлично от нормального."
      ]
    },
    {
      "cell_type": "code",
      "execution_count": null,
      "metadata": {
        "colab": {
          "base_uri": "https://localhost:8080/"
        },
        "id": "bCxAGItPTHRe",
        "outputId": "334716f4-96c7-4a21-ca5f-c7d352adde2b"
      },
      "outputs": [
        {
          "name": "stdout",
          "output_type": "stream",
          "text": [
            "Для мужчин:\n",
            "p-value = 0.000\n",
            "p-значение меньше, чем заданный уровень значимости 0.05. Распределение отлично от нормального\n",
            "Для женщин:\n",
            "p-value = 0.000\n",
            "p-значение меньше, чем заданный уровень значимости 0.05. Распределение отлично от нормального\n"
          ]
        }
      ],
      "source": [
        "# значения страховых выплат\n",
        "charges_male = data.loc[data['sex']=='male', 'charges']\n",
        "charges_female = data.loc[data['sex']=='female', 'charges']\n",
        "\n",
        "# проводим тест Шапиро-Уилка\n",
        "print('Для мужчин:')\n",
        "result = stats.shapiro(charges_male)\n",
        "decision_normality(result[1])\n",
        "\n",
        "print('Для женщин:')\n",
        "result = stats.shapiro(charges_female)\n",
        "decision_normality(result[1])"
      ]
    },
    {
      "cell_type": "markdown",
      "metadata": {
        "id": "IBOYMwmfTHRu"
      },
      "source": [
        "**Выберем подходящий статистический тест**\n",
        "\n",
        "Для выбора нужного теста воспользуемся алгоритмом выбора теста. Для этого ответим на следующие вопросы:\n",
        "* Какой тип у признака «Размер страховых выплат»? — Количественный.\n",
        "* Сколько сравниваемых групп? — Две.\n",
        "* Группы зависимы? — Нет.\n",
        "* Признак распределён по нормальному закону? — Нет.\n",
        "\n",
        "Чтобы проверить нашу гипотезу, можно использовать U-критерий Манна — Уитни для сравнения распределений на основе рангов.\n",
        "\n",
        "**Проведём тест**"
      ]
    },
    {
      "cell_type": "code",
      "execution_count": null,
      "metadata": {
        "colab": {
          "base_uri": "https://localhost:8080/"
        },
        "id": "xaQuaMV8THRu",
        "outputId": "0e37fc3b-bd2e-4166-8d52-f373fd82c672"
      },
      "outputs": [
        {
          "name": "stdout",
          "output_type": "stream",
          "text": [
            "p-value = 0.694\n",
            "p-значение больше, чем заданный уровень значимости 0.05. У нас нет оснований отвергнуть нулевую гипотезу.\n"
          ]
        }
      ],
      "source": [
        "# проводим тест\n",
        "_, p = stats.mannwhitneyu(charges_male, charges_female, alternative='greater')\n",
        "decision_hypothesis(p)"
      ]
    },
    {
      "cell_type": "markdown",
      "metadata": {
        "id": "aZEt9hu-Q995"
      },
      "source": [
        "**Вывод**\n",
        "\n",
        "Нет оснований утверждать, что размер страховых выплат для клиентов-мужчин больше, чем для клиентов-женщин."
      ]
    },
    {
      "cell_type": "markdown",
      "metadata": {
        "id": "JW47VJo3Q99s"
      },
      "source": [
        "### 2. Размер страховых выплат для некурящих клиентов меньше, чем для курящих?\n",
        "\n",
        "\n",
        "**Сформулируем нулевую и альтернативные гипотезы**\n",
        "\n",
        "*Нулевая гипотеза* ($H_0$): размер страховых выплат для некурящих клиентов ($μ_1$) статистически больше либо равен размеру страховых выплат для курящих клиентов ($μ_2$).\n",
        "\n",
        "$$ H_0 : μ_1 >= μ_2$$\n",
        "\n",
        "*Альтернативная гипотеза* ($H_1$): размер страховых выплат для некурящих клиентов ($μ_1$) статистически меньше, чем размер страховых выплат для курящих клиентов ($μ_2$).\n",
        "$$ H_1 : μ_1 < μ_2$$\n",
        "\n",
        "\n"
      ]
    },
    {
      "cell_type": "markdown",
      "metadata": {
        "id": "kMk6Q5sRl7Zf"
      },
      "source": [
        "**Проверка на нормальность**\n",
        "\n",
        "С помощью теста Шапиро-Уилка проверим, распределён ли признак нормально."
      ]
    },
    {
      "cell_type": "code",
      "execution_count": null,
      "metadata": {
        "colab": {
          "base_uri": "https://localhost:8080/"
        },
        "id": "JxXzC7-_RNDj",
        "outputId": "6e4c2c71-7d7d-4510-883c-8a52b5f64149"
      },
      "outputs": [
        {
          "name": "stdout",
          "output_type": "stream",
          "text": [
            "Для некурящих клиентов:\n",
            "p-value = 0.000\n",
            "p-значение меньше, чем заданный уровень значимости 0.05. Распределение отлично от нормального\n",
            "Для курящих клиентов:\n",
            "p-value = 0.000\n",
            "p-значение меньше, чем заданный уровень значимости 0.05. Распределение отлично от нормального\n"
          ]
        }
      ],
      "source": [
        "# значения страховых выплат\n",
        "charges_no_smoker = data.loc[data['smoker']=='no', 'charges']\n",
        "charges_smoker = data.loc[data['smoker']=='yes', 'charges']\n",
        "\n",
        "# проводим тест Шапиро-Уилка\n",
        "print('Для некурящих клиентов:')\n",
        "result = stats.shapiro(charges_no_smoker)\n",
        "decision_normality(result[1])\n",
        "\n",
        "print('Для курящих клиентов:')\n",
        "result = stats.shapiro(charges_smoker)\n",
        "decision_normality(result[1])"
      ]
    },
    {
      "cell_type": "markdown",
      "metadata": {
        "id": "gKIiBvTMRNDk"
      },
      "source": [
        "**Выберем подходящий статистический тест**\n",
        "\n",
        "Для выбора нужного теста воспользуемся алгоритмом выбора теста. Для этого ответим на следующие вопросы:\n",
        "* Какой тип у признака «Размер страховых выплат»? — Количественный.\n",
        "* Сколько сравниваемых групп? — Две.\n",
        "* Группы зависимы? — Нет.\n",
        "* Признак распределён по нормальному закону? — Нет.\n",
        "\n",
        "Для проверки нашей гипотезы можно использовать U-критерий Манна — Уитни.\n",
        "\n",
        "**Проведём тест**\n"
      ]
    },
    {
      "cell_type": "code",
      "execution_count": null,
      "metadata": {
        "colab": {
          "base_uri": "https://localhost:8080/"
        },
        "id": "93N51wSsRNDk",
        "outputId": "0df1775e-94ad-41b1-d7fc-4d91335fc590"
      },
      "outputs": [
        {
          "name": "stdout",
          "output_type": "stream",
          "text": [
            "p-value = 0.000\n",
            "p-значение меньше, чем заданный уровень значимости 0.05. Отвергаем нулевую гипотезу в пользу альтернативной.\n"
          ]
        }
      ],
      "source": [
        "# проводим тест\n",
        "_, p = stats.mannwhitneyu(charges_no_smoker, charges_smoker, alternative='less')\n",
        "decision_hypothesis(p)"
      ]
    },
    {
      "cell_type": "markdown",
      "metadata": {
        "id": "yZogeviaRNDk"
      },
      "source": [
        "**Вывод**\n",
        "\n",
        "Размер страховых выплат для некурящих клиентов меньше, чем для курящих."
      ]
    },
    {
      "cell_type": "markdown",
      "metadata": {
        "id": "ByITCYyXGKb4"
      },
      "source": [
        "### 3. Влияет ли регион проживания на размер выплат?\n",
        "\n",
        "**Сформулируем нулевую и альтернативные гипотезы**\n",
        "\n",
        "*Нулевая гипотеза*: размер страховых выплат не отличается в разных регионах: северо-восток ($μ_1$), юго-восток ($μ_2$), юго-запад ($μ_3$), северо-запад ($μ_4$).\n",
        "\n",
        "$$ H_0 : μ_1 = μ_2 = μ_3 = μ_4$$\n",
        "\n",
        "*Альтернативная гипотеза*: размер страховых выплат отличается в разных регионах: северо-восток ($μ_1$), юго-восток ($μ_2$), юго-запад ($μ_3$), северо-запад ($μ_4$).\n",
        "\n",
        "$$ H_1 : μ_1 \\neq μ_2 \\neq μ_3 \\neq μ_4$$\n",
        "\n"
      ]
    },
    {
      "cell_type": "markdown",
      "metadata": {
        "id": "dPXLUo31l7Zg"
      },
      "source": [
        "**Проверка на нормальность**\n",
        "\n",
        "С помощью теста Шапиро-Уилка проверим, распределён ли признак нормально."
      ]
    },
    {
      "cell_type": "code",
      "execution_count": null,
      "metadata": {
        "colab": {
          "base_uri": "https://localhost:8080/"
        },
        "id": "0g8PmvdlGKmP",
        "outputId": "48892466-4da7-4a58-c414-d3af794b053d"
      },
      "outputs": [
        {
          "name": "stdout",
          "output_type": "stream",
          "text": [
            "Для северо-востока:\n",
            "p-value = 0.000\n",
            "p-значение меньше, чем заданный уровень значимости 0.05. Распределение отлично от нормального\n",
            "Для юго-востока:\n",
            "p-value = 0.000\n",
            "p-значение меньше, чем заданный уровень значимости 0.05. Распределение отлично от нормального\n",
            "Для северо-запада:\n",
            "p-value = 0.000\n",
            "p-значение меньше, чем заданный уровень значимости 0.05. Распределение отлично от нормального\n",
            "Для юго-запада:\n",
            "p-value = 0.000\n",
            "p-значение меньше, чем заданный уровень значимости 0.05. Распределение отлично от нормального\n"
          ]
        }
      ],
      "source": [
        "# значения страховых выплат\n",
        "charges_northeast = data.loc[data['region']=='northeast', 'charges']\n",
        "charges_southeast = data.loc[data['region']=='southeast', 'charges']\n",
        "charges_northwest = data.loc[data['region']=='northwest', 'charges']\n",
        "charges_southwest = data.loc[data['region']=='southwest', 'charges']\n",
        "\n",
        "# проводим тест Шапиро-Уилка\n",
        "print('Для северо-востока:')\n",
        "result = stats.shapiro(charges_northeast)\n",
        "decision_normality(result[1])\n",
        "\n",
        "print('Для юго-востока:')\n",
        "result = stats.shapiro(charges_southeast)\n",
        "decision_normality(result[1])\n",
        "\n",
        "print('Для северо-запада:')\n",
        "result = stats.shapiro(charges_northwest)\n",
        "decision_normality(result[1])\n",
        "\n",
        "print('Для юго-запада:')\n",
        "result = stats.shapiro(charges_southwest)\n",
        "decision_normality(result[1])\n"
      ]
    },
    {
      "cell_type": "markdown",
      "metadata": {
        "id": "FPq2KNq4dbWj"
      },
      "source": [
        "**Выберем подходящий статистический тест**\n",
        "\n",
        "Для выбора нужного теста воспользуемся алгоритмом выбора теста. Для этого ответим на следующие вопросы:\n",
        "* Какой тип у признака «Регион проживания в США»? — Количественный.\n",
        "* Сколько сравниваемых групп? — Четыре.\n",
        "* Группы зависимы? — Нет.\n",
        "* Признак распределён по нормальному закону? — Нет. \n",
        "\n",
        "Для проверки нашей гипотезы можно использовать критерий Краскела — Уоллиса.\n",
        "\n",
        "**Проведём тест**"
      ]
    },
    {
      "cell_type": "code",
      "execution_count": null,
      "metadata": {
        "colab": {
          "base_uri": "https://localhost:8080/"
        },
        "id": "ZIJjzAQxfnsp",
        "outputId": "11a9cf62-98d8-4de3-9cec-1c040577ac51"
      },
      "outputs": [
        {
          "name": "stdout",
          "output_type": "stream",
          "text": [
            "p-value = 0.202\n",
            "p-значение больше, чем заданный уровень значимости 0.05. У нас нет оснований отвергнуть нулевую гипотезу.\n"
          ]
        }
      ],
      "source": [
        "# проводим тест\n",
        "_, p = stats.kruskal(charges_northeast, charges_southeast, charges_southwest, charges_northwest)\n",
        "decision_hypothesis(p)"
      ]
    },
    {
      "cell_type": "markdown",
      "metadata": {
        "id": "TESdSdapPblj"
      },
      "source": [
        "**Вывод**\n",
        "\n",
        "Нет оснований утверждать, что есть разница в размере страховых выплат в разных регионах."
      ]
    },
    {
      "cell_type": "markdown",
      "metadata": {
        "id": "C_BzXnR7l7Zh"
      },
      "source": [
        "### 4. Есть ли взаимосвязь между курением и полом?"
      ]
    },
    {
      "cell_type": "markdown",
      "metadata": {
        "id": "nTL6_EGyl7Zh"
      },
      "source": [
        "**Сформулируем нулевую и альтернативные гипотезы**\n",
        "\n",
        "*Нулевая гипотеза*: между тем, курит человек или нет, и его полом нет взаимосвязи (признаки независимы).\n",
        "\n",
        "*Альтернативная гипотеза*: между тем, курит человек или нет, и его полом есть взаимосвязь (признаки зависимы).\n"
      ]
    },
    {
      "cell_type": "markdown",
      "metadata": {
        "id": "JBDWUoufl7Zh"
      },
      "source": [
        "**Выберем подходящий статистический тест**\n",
        "\n",
        "Для выбора нужного теста воспользуемся алгоритмом выбора теста. Для этого ответим на следующие вопросы:\n",
        "* Какой тип у признака «Пол»? — Категориальный.\n",
        "* Сколько сравниваемых групп? — Две.\n",
        "* Проверяется независимость групп? — Да.\n",
        "\n",
        "Для проверки нашей гипотезы можно использовать критерий ${\\chi}^2$ (хи-квадрат).\n",
        "\n",
        "**Проведём тест**"
      ]
    },
    {
      "cell_type": "code",
      "execution_count": null,
      "metadata": {
        "colab": {
          "base_uri": "https://localhost:8080/",
          "height": 143
        },
        "id": "Hs4I-87_l7Zh",
        "outputId": "3c863879-9c55-497e-de9e-16dff9c07675"
      },
      "outputs": [
        {
          "data": {
            "text/html": [
              "\n",
              "  <div id=\"df-7e0dcc95-7d8f-4ad4-8455-b5684ee452e3\">\n",
              "    <div class=\"colab-df-container\">\n",
              "      <div>\n",
              "<style scoped>\n",
              "    .dataframe tbody tr th:only-of-type {\n",
              "        vertical-align: middle;\n",
              "    }\n",
              "\n",
              "    .dataframe tbody tr th {\n",
              "        vertical-align: top;\n",
              "    }\n",
              "\n",
              "    .dataframe thead th {\n",
              "        text-align: right;\n",
              "    }\n",
              "</style>\n",
              "<table border=\"1\" class=\"dataframe\">\n",
              "  <thead>\n",
              "    <tr style=\"text-align: right;\">\n",
              "      <th>smoker</th>\n",
              "      <th>no</th>\n",
              "      <th>yes</th>\n",
              "    </tr>\n",
              "    <tr>\n",
              "      <th>sex</th>\n",
              "      <th></th>\n",
              "      <th></th>\n",
              "    </tr>\n",
              "  </thead>\n",
              "  <tbody>\n",
              "    <tr>\n",
              "      <th>female</th>\n",
              "      <td>547</td>\n",
              "      <td>115</td>\n",
              "    </tr>\n",
              "    <tr>\n",
              "      <th>male</th>\n",
              "      <td>516</td>\n",
              "      <td>159</td>\n",
              "    </tr>\n",
              "  </tbody>\n",
              "</table>\n",
              "</div>\n",
              "      <button class=\"colab-df-convert\" onclick=\"convertToInteractive('df-7e0dcc95-7d8f-4ad4-8455-b5684ee452e3')\"\n",
              "              title=\"Convert this dataframe to an interactive table.\"\n",
              "              style=\"display:none;\">\n",
              "        \n",
              "  <svg xmlns=\"http://www.w3.org/2000/svg\" height=\"24px\"viewBox=\"0 0 24 24\"\n",
              "       width=\"24px\">\n",
              "    <path d=\"M0 0h24v24H0V0z\" fill=\"none\"/>\n",
              "    <path d=\"M18.56 5.44l.94 2.06.94-2.06 2.06-.94-2.06-.94-.94-2.06-.94 2.06-2.06.94zm-11 1L8.5 8.5l.94-2.06 2.06-.94-2.06-.94L8.5 2.5l-.94 2.06-2.06.94zm10 10l.94 2.06.94-2.06 2.06-.94-2.06-.94-.94-2.06-.94 2.06-2.06.94z\"/><path d=\"M17.41 7.96l-1.37-1.37c-.4-.4-.92-.59-1.43-.59-.52 0-1.04.2-1.43.59L10.3 9.45l-7.72 7.72c-.78.78-.78 2.05 0 2.83L4 21.41c.39.39.9.59 1.41.59.51 0 1.02-.2 1.41-.59l7.78-7.78 2.81-2.81c.8-.78.8-2.07 0-2.86zM5.41 20L4 18.59l7.72-7.72 1.47 1.35L5.41 20z\"/>\n",
              "  </svg>\n",
              "      </button>\n",
              "      \n",
              "  <style>\n",
              "    .colab-df-container {\n",
              "      display:flex;\n",
              "      flex-wrap:wrap;\n",
              "      gap: 12px;\n",
              "    }\n",
              "\n",
              "    .colab-df-convert {\n",
              "      background-color: #E8F0FE;\n",
              "      border: none;\n",
              "      border-radius: 50%;\n",
              "      cursor: pointer;\n",
              "      display: none;\n",
              "      fill: #1967D2;\n",
              "      height: 32px;\n",
              "      padding: 0 0 0 0;\n",
              "      width: 32px;\n",
              "    }\n",
              "\n",
              "    .colab-df-convert:hover {\n",
              "      background-color: #E2EBFA;\n",
              "      box-shadow: 0px 1px 2px rgba(60, 64, 67, 0.3), 0px 1px 3px 1px rgba(60, 64, 67, 0.15);\n",
              "      fill: #174EA6;\n",
              "    }\n",
              "\n",
              "    [theme=dark] .colab-df-convert {\n",
              "      background-color: #3B4455;\n",
              "      fill: #D2E3FC;\n",
              "    }\n",
              "\n",
              "    [theme=dark] .colab-df-convert:hover {\n",
              "      background-color: #434B5C;\n",
              "      box-shadow: 0px 1px 3px 1px rgba(0, 0, 0, 0.15);\n",
              "      filter: drop-shadow(0px 1px 2px rgba(0, 0, 0, 0.3));\n",
              "      fill: #FFFFFF;\n",
              "    }\n",
              "  </style>\n",
              "\n",
              "      <script>\n",
              "        const buttonEl =\n",
              "          document.querySelector('#df-7e0dcc95-7d8f-4ad4-8455-b5684ee452e3 button.colab-df-convert');\n",
              "        buttonEl.style.display =\n",
              "          google.colab.kernel.accessAllowed ? 'block' : 'none';\n",
              "\n",
              "        async function convertToInteractive(key) {\n",
              "          const element = document.querySelector('#df-7e0dcc95-7d8f-4ad4-8455-b5684ee452e3');\n",
              "          const dataTable =\n",
              "            await google.colab.kernel.invokeFunction('convertToInteractive',\n",
              "                                                     [key], {});\n",
              "          if (!dataTable) return;\n",
              "\n",
              "          const docLinkHtml = 'Like what you see? Visit the ' +\n",
              "            '<a target=\"_blank\" href=https://colab.research.google.com/notebooks/data_table.ipynb>data table notebook</a>'\n",
              "            + ' to learn more about interactive tables.';\n",
              "          element.innerHTML = '';\n",
              "          dataTable['output_type'] = 'display_data';\n",
              "          await google.colab.output.renderOutput(dataTable, element);\n",
              "          const docLink = document.createElement('div');\n",
              "          docLink.innerHTML = docLinkHtml;\n",
              "          element.appendChild(docLink);\n",
              "        }\n",
              "      </script>\n",
              "    </div>\n",
              "  </div>\n",
              "  "
            ],
            "text/plain": [
              "smoker   no  yes\n",
              "sex             \n",
              "female  547  115\n",
              "male    516  159"
            ]
          },
          "execution_count": 38,
          "metadata": {},
          "output_type": "execute_result"
        }
      ],
      "source": [
        "# составляем таблицу сопряжённости\n",
        "cross_table = pd.crosstab(data['sex'], data['smoker'])\n",
        "\n",
        "cross_table"
      ]
    },
    {
      "cell_type": "code",
      "execution_count": null,
      "metadata": {
        "colab": {
          "base_uri": "https://localhost:8080/"
        },
        "id": "QluLlU6Kl7Zh",
        "outputId": "93379b4f-594d-45a6-8283-733c181331fd"
      },
      "outputs": [
        {
          "name": "stdout",
          "output_type": "stream",
          "text": [
            "p-value = 0.006\n",
            "p-значение меньше, чем заданный уровень значимости 0.05. Отвергаем нулевую гипотезу в пользу альтернативной.\n"
          ]
        }
      ],
      "source": [
        "# проводим тест\n",
        "_, p, _, _ = stats.chi2_contingency(cross_table)\n",
        "decision_hypothesis(p)"
      ]
    },
    {
      "cell_type": "markdown",
      "metadata": {
        "id": "iX8a9h8Dl7Zh"
      },
      "source": [
        "**Вывод**\n",
        "\n",
        "Существует статистически значимая взаимосвязь между полом и курением."
      ]
    },
    {
      "cell_type": "markdown",
      "metadata": {
        "id": "weubXekLfsQX"
      },
      "source": [
        "## Итоговые результаты исследования\n",
        "\n",
        "*   Нет оснований утверждать, что есть разница в размере страховых выплат для клиентов-мужчин и клиентов-женщин.\n",
        "*   Размер страховых выплат для некурящих клиентов меньше, чем для курящих.\n",
        "*   Нет оснований утверждать, что есть разница в размере страховых выплат для разных регионов.\n",
        "*   Существует взаимосвязь между полом и курением."
      ]
    }
  ],
  "metadata": {
    "colab": {
      "provenance": []
    },
    "kernelspec": {
      "display_name": "Python 3.10.8 ('base')",
      "language": "python",
      "name": "python3"
    },
    "language_info": {
      "codemirror_mode": {
        "name": "ipython",
        "version": 3
      },
      "file_extension": ".py",
      "mimetype": "text/x-python",
      "name": "python",
      "nbconvert_exporter": "python",
      "pygments_lexer": "ipython3",
      "version": "3.10.11"
    },
    "vscode": {
      "interpreter": {
        "hash": "86c56a74836ad344b00594bf6f38fa6a676a207ceefe20d101fbc465800ccb8d"
      }
    }
  },
  "nbformat": 4,
  "nbformat_minor": 0
}
